{
  "cells": [
    {
      "cell_type": "code",
      "execution_count": null,
      "metadata": {
        "colab": {
          "base_uri": "https://localhost:8080/",
          "height": 54
        },
        "collapsed": true,
        "id": "3EPNPx63GXBF",
        "outputId": "ee701fa6-f93c-47c6-d13c-1d36612da5a3"
      },
      "outputs": [
        {
          "data": {
            "text/html": [
              "\n",
              "     <input type=\"file\" id=\"files-6f787565-bae9-4178-aa64-0ee3b6f43aa7\" name=\"files[]\" multiple disabled\n",
              "        style=\"border:none\" />\n",
              "     <output id=\"result-6f787565-bae9-4178-aa64-0ee3b6f43aa7\">\n",
              "      Upload widget is only available when the cell has been executed in the\n",
              "      current browser session. Please rerun this cell to enable.\n",
              "      </output>\n",
              "      <script>// Copyright 2017 Google LLC\n",
              "//\n",
              "// Licensed under the Apache License, Version 2.0 (the \"License\");\n",
              "// you may not use this file except in compliance with the License.\n",
              "// You may obtain a copy of the License at\n",
              "//\n",
              "//      http://www.apache.org/licenses/LICENSE-2.0\n",
              "//\n",
              "// Unless required by applicable law or agreed to in writing, software\n",
              "// distributed under the License is distributed on an \"AS IS\" BASIS,\n",
              "// WITHOUT WARRANTIES OR CONDITIONS OF ANY KIND, either express or implied.\n",
              "// See the License for the specific language governing permissions and\n",
              "// limitations under the License.\n",
              "\n",
              "/**\n",
              " * @fileoverview Helpers for google.colab Python module.\n",
              " */\n",
              "(function(scope) {\n",
              "function span(text, styleAttributes = {}) {\n",
              "  const element = document.createElement('span');\n",
              "  element.textContent = text;\n",
              "  for (const key of Object.keys(styleAttributes)) {\n",
              "    element.style[key] = styleAttributes[key];\n",
              "  }\n",
              "  return element;\n",
              "}\n",
              "\n",
              "// Max number of bytes which will be uploaded at a time.\n",
              "const MAX_PAYLOAD_SIZE = 100 * 1024;\n",
              "\n",
              "function _uploadFiles(inputId, outputId) {\n",
              "  const steps = uploadFilesStep(inputId, outputId);\n",
              "  const outputElement = document.getElementById(outputId);\n",
              "  // Cache steps on the outputElement to make it available for the next call\n",
              "  // to uploadFilesContinue from Python.\n",
              "  outputElement.steps = steps;\n",
              "\n",
              "  return _uploadFilesContinue(outputId);\n",
              "}\n",
              "\n",
              "// This is roughly an async generator (not supported in the browser yet),\n",
              "// where there are multiple asynchronous steps and the Python side is going\n",
              "// to poll for completion of each step.\n",
              "// This uses a Promise to block the python side on completion of each step,\n",
              "// then passes the result of the previous step as the input to the next step.\n",
              "function _uploadFilesContinue(outputId) {\n",
              "  const outputElement = document.getElementById(outputId);\n",
              "  const steps = outputElement.steps;\n",
              "\n",
              "  const next = steps.next(outputElement.lastPromiseValue);\n",
              "  return Promise.resolve(next.value.promise).then((value) => {\n",
              "    // Cache the last promise value to make it available to the next\n",
              "    // step of the generator.\n",
              "    outputElement.lastPromiseValue = value;\n",
              "    return next.value.response;\n",
              "  });\n",
              "}\n",
              "\n",
              "/**\n",
              " * Generator function which is called between each async step of the upload\n",
              " * process.\n",
              " * @param {string} inputId Element ID of the input file picker element.\n",
              " * @param {string} outputId Element ID of the output display.\n",
              " * @return {!Iterable<!Object>} Iterable of next steps.\n",
              " */\n",
              "function* uploadFilesStep(inputId, outputId) {\n",
              "  const inputElement = document.getElementById(inputId);\n",
              "  inputElement.disabled = false;\n",
              "\n",
              "  const outputElement = document.getElementById(outputId);\n",
              "  outputElement.innerHTML = '';\n",
              "\n",
              "  const pickedPromise = new Promise((resolve) => {\n",
              "    inputElement.addEventListener('change', (e) => {\n",
              "      resolve(e.target.files);\n",
              "    });\n",
              "  });\n",
              "\n",
              "  const cancel = document.createElement('button');\n",
              "  inputElement.parentElement.appendChild(cancel);\n",
              "  cancel.textContent = 'Cancel upload';\n",
              "  const cancelPromise = new Promise((resolve) => {\n",
              "    cancel.onclick = () => {\n",
              "      resolve(null);\n",
              "    };\n",
              "  });\n",
              "\n",
              "  // Wait for the user to pick the files.\n",
              "  const files = yield {\n",
              "    promise: Promise.race([pickedPromise, cancelPromise]),\n",
              "    response: {\n",
              "      action: 'starting',\n",
              "    }\n",
              "  };\n",
              "\n",
              "  cancel.remove();\n",
              "\n",
              "  // Disable the input element since further picks are not allowed.\n",
              "  inputElement.disabled = true;\n",
              "\n",
              "  if (!files) {\n",
              "    return {\n",
              "      response: {\n",
              "        action: 'complete',\n",
              "      }\n",
              "    };\n",
              "  }\n",
              "\n",
              "  for (const file of files) {\n",
              "    const li = document.createElement('li');\n",
              "    li.append(span(file.name, {fontWeight: 'bold'}));\n",
              "    li.append(span(\n",
              "        `(${file.type || 'n/a'}) - ${file.size} bytes, ` +\n",
              "        `last modified: ${\n",
              "            file.lastModifiedDate ? file.lastModifiedDate.toLocaleDateString() :\n",
              "                                    'n/a'} - `));\n",
              "    const percent = span('0% done');\n",
              "    li.appendChild(percent);\n",
              "\n",
              "    outputElement.appendChild(li);\n",
              "\n",
              "    const fileDataPromise = new Promise((resolve) => {\n",
              "      const reader = new FileReader();\n",
              "      reader.onload = (e) => {\n",
              "        resolve(e.target.result);\n",
              "      };\n",
              "      reader.readAsArrayBuffer(file);\n",
              "    });\n",
              "    // Wait for the data to be ready.\n",
              "    let fileData = yield {\n",
              "      promise: fileDataPromise,\n",
              "      response: {\n",
              "        action: 'continue',\n",
              "      }\n",
              "    };\n",
              "\n",
              "    // Use a chunked sending to avoid message size limits. See b/62115660.\n",
              "    let position = 0;\n",
              "    do {\n",
              "      const length = Math.min(fileData.byteLength - position, MAX_PAYLOAD_SIZE);\n",
              "      const chunk = new Uint8Array(fileData, position, length);\n",
              "      position += length;\n",
              "\n",
              "      const base64 = btoa(String.fromCharCode.apply(null, chunk));\n",
              "      yield {\n",
              "        response: {\n",
              "          action: 'append',\n",
              "          file: file.name,\n",
              "          data: base64,\n",
              "        },\n",
              "      };\n",
              "\n",
              "      let percentDone = fileData.byteLength === 0 ?\n",
              "          100 :\n",
              "          Math.round((position / fileData.byteLength) * 100);\n",
              "      percent.textContent = `${percentDone}% done`;\n",
              "\n",
              "    } while (position < fileData.byteLength);\n",
              "  }\n",
              "\n",
              "  // All done.\n",
              "  yield {\n",
              "    response: {\n",
              "      action: 'complete',\n",
              "    }\n",
              "  };\n",
              "}\n",
              "\n",
              "scope.google = scope.google || {};\n",
              "scope.google.colab = scope.google.colab || {};\n",
              "scope.google.colab._files = {\n",
              "  _uploadFiles,\n",
              "  _uploadFilesContinue,\n",
              "};\n",
              "})(self);\n",
              "</script> "
            ],
            "text/plain": [
              "<IPython.core.display.HTML object>"
            ]
          },
          "metadata": {},
          "output_type": "display_data"
        },
        {
          "name": "stdout",
          "output_type": "stream",
          "text": [
            "Saving kaggle.json to kaggle.json\n"
          ]
        }
      ],
      "source": [
        "from google.colab import files\n",
        "files.upload() #kaggle.json\n",
        "!mkdir -p ~/.kaggle\n",
        "!cp kaggle.json ~/.kaggle/\n",
        "!chmod 600 ~/.kaggle/kaggle.json"
      ]
    },
    {
      "cell_type": "code",
      "execution_count": null,
      "metadata": {},
      "outputs": [],
      "source": [
        "!kaggle datasets download -d sukhmandeepsinghbrar/car-price-prediction-dataset\n",
        "!unzip car-price-prediction-dataset.zip "
      ]
    },
    {
      "cell_type": "code",
      "execution_count": 1,
      "metadata": {
        "id": "-KmcNB1nCHIK"
      },
      "outputs": [],
      "source": [
        "import os\n",
        "import numpy as np\n",
        "import pandas as pd\n",
        "import matplotlib.pyplot as plt\n",
        "\n",
        "from sklearn.model_selection import train_test_split, GridSearchCV\n",
        "from sklearn.metrics import mean_absolute_error, mean_squared_error, r2_score\n",
        "from sklearn.preprocessing import StandardScaler, OneHotEncoder,OrdinalEncoder\n",
        "from sklearn.compose import ColumnTransformer\n",
        "from sklearn.pipeline import Pipeline\n",
        "from sklearn.ensemble import RandomForestRegressor\n",
        "from sklearn.svm import SVR\n",
        "from sklearn.neural_network import MLPRegressor"
      ]
    },
    {
      "cell_type": "code",
      "execution_count": null,
      "metadata": {
        "id": "5pvr4XxLCQOm"
      },
      "outputs": [
        {
          "data": {
            "application/vnd.microsoft.datawrangler.viewer.v0+json": {
              "columns": [
                {
                  "name": "index",
                  "rawType": "int64",
                  "type": "integer"
                },
                {
                  "name": "year",
                  "rawType": "int64",
                  "type": "integer"
                },
                {
                  "name": "selling_price",
                  "rawType": "int64",
                  "type": "integer"
                },
                {
                  "name": "km_driven",
                  "rawType": "int64",
                  "type": "integer"
                },
                {
                  "name": "fuel",
                  "rawType": "object",
                  "type": "string"
                },
                {
                  "name": "transmission",
                  "rawType": "object",
                  "type": "string"
                },
                {
                  "name": "owner",
                  "rawType": "object",
                  "type": "string"
                },
                {
                  "name": "engine",
                  "rawType": "float64",
                  "type": "float"
                },
                {
                  "name": "max_power",
                  "rawType": "object",
                  "type": "string"
                },
                {
                  "name": "brand",
                  "rawType": "object",
                  "type": "string"
                },
                {
                  "name": "model",
                  "rawType": "object",
                  "type": "string"
                }
              ],
              "ref": "dea11e8e-89cd-4d12-9738-b17f4a41cfec",
              "rows": [
                [
                  "0",
                  "2014",
                  "450000",
                  "145500",
                  "Diesel",
                  "Manual",
                  "First Owner",
                  "1248.0",
                  "74",
                  "Maruti",
                  "Swift Dzire VDI"
                ],
                [
                  "4",
                  "2007",
                  "130000",
                  "120000",
                  "Petrol",
                  "Manual",
                  "First Owner",
                  "1298.0",
                  "88.2",
                  "Maruti",
                  "Swift VXI BSIII"
                ],
                [
                  "8",
                  "2011",
                  "350000",
                  "90000",
                  "Diesel",
                  "Manual",
                  "First Owner",
                  "1364.0",
                  "67.1",
                  "Toyota",
                  "Etios VXD"
                ],
                [
                  "12",
                  "2009",
                  "280000",
                  "140000",
                  "Diesel",
                  "Manual",
                  "Second Owner",
                  "1248.0",
                  "73.9",
                  "Maruti",
                  "Swift Dzire VDi"
                ],
                [
                  "17",
                  "2012",
                  "500000",
                  "53000",
                  "Diesel",
                  "Manual",
                  "Second Owner",
                  "1396.0",
                  "90",
                  "Hyundai",
                  "i20 1.4 CRDi Asta"
                ]
              ],
              "shape": {
                "columns": 10,
                "rows": 5
              }
            },
            "text/html": [
              "<div>\n",
              "<style scoped>\n",
              "    .dataframe tbody tr th:only-of-type {\n",
              "        vertical-align: middle;\n",
              "    }\n",
              "\n",
              "    .dataframe tbody tr th {\n",
              "        vertical-align: top;\n",
              "    }\n",
              "\n",
              "    .dataframe thead th {\n",
              "        text-align: right;\n",
              "    }\n",
              "</style>\n",
              "<table border=\"1\" class=\"dataframe\">\n",
              "  <thead>\n",
              "    <tr style=\"text-align: right;\">\n",
              "      <th></th>\n",
              "      <th>year</th>\n",
              "      <th>selling_price</th>\n",
              "      <th>km_driven</th>\n",
              "      <th>fuel</th>\n",
              "      <th>transmission</th>\n",
              "      <th>owner</th>\n",
              "      <th>engine</th>\n",
              "      <th>max_power</th>\n",
              "      <th>brand</th>\n",
              "      <th>model</th>\n",
              "    </tr>\n",
              "  </thead>\n",
              "  <tbody>\n",
              "    <tr>\n",
              "      <th>0</th>\n",
              "      <td>2014</td>\n",
              "      <td>450000</td>\n",
              "      <td>145500</td>\n",
              "      <td>Diesel</td>\n",
              "      <td>Manual</td>\n",
              "      <td>First Owner</td>\n",
              "      <td>1248.0</td>\n",
              "      <td>74</td>\n",
              "      <td>Maruti</td>\n",
              "      <td>Swift Dzire VDI</td>\n",
              "    </tr>\n",
              "    <tr>\n",
              "      <th>4</th>\n",
              "      <td>2007</td>\n",
              "      <td>130000</td>\n",
              "      <td>120000</td>\n",
              "      <td>Petrol</td>\n",
              "      <td>Manual</td>\n",
              "      <td>First Owner</td>\n",
              "      <td>1298.0</td>\n",
              "      <td>88.2</td>\n",
              "      <td>Maruti</td>\n",
              "      <td>Swift VXI BSIII</td>\n",
              "    </tr>\n",
              "    <tr>\n",
              "      <th>8</th>\n",
              "      <td>2011</td>\n",
              "      <td>350000</td>\n",
              "      <td>90000</td>\n",
              "      <td>Diesel</td>\n",
              "      <td>Manual</td>\n",
              "      <td>First Owner</td>\n",
              "      <td>1364.0</td>\n",
              "      <td>67.1</td>\n",
              "      <td>Toyota</td>\n",
              "      <td>Etios VXD</td>\n",
              "    </tr>\n",
              "    <tr>\n",
              "      <th>12</th>\n",
              "      <td>2009</td>\n",
              "      <td>280000</td>\n",
              "      <td>140000</td>\n",
              "      <td>Diesel</td>\n",
              "      <td>Manual</td>\n",
              "      <td>Second Owner</td>\n",
              "      <td>1248.0</td>\n",
              "      <td>73.9</td>\n",
              "      <td>Maruti</td>\n",
              "      <td>Swift Dzire VDi</td>\n",
              "    </tr>\n",
              "    <tr>\n",
              "      <th>17</th>\n",
              "      <td>2012</td>\n",
              "      <td>500000</td>\n",
              "      <td>53000</td>\n",
              "      <td>Diesel</td>\n",
              "      <td>Manual</td>\n",
              "      <td>Second Owner</td>\n",
              "      <td>1396.0</td>\n",
              "      <td>90</td>\n",
              "      <td>Hyundai</td>\n",
              "      <td>i20 1.4 CRDi Asta</td>\n",
              "    </tr>\n",
              "  </tbody>\n",
              "</table>\n",
              "</div>"
            ],
            "text/plain": [
              "    year  selling_price  km_driven    fuel transmission         owner  engine  \\\n",
              "0   2014         450000     145500  Diesel       Manual   First Owner  1248.0   \n",
              "4   2007         130000     120000  Petrol       Manual   First Owner  1298.0   \n",
              "8   2011         350000      90000  Diesel       Manual   First Owner  1364.0   \n",
              "12  2009         280000     140000  Diesel       Manual  Second Owner  1248.0   \n",
              "17  2012         500000      53000  Diesel       Manual  Second Owner  1396.0   \n",
              "\n",
              "   max_power    brand              model  \n",
              "0         74   Maruti    Swift Dzire VDI  \n",
              "4       88.2   Maruti    Swift VXI BSIII  \n",
              "8       67.1   Toyota          Etios VXD  \n",
              "12      73.9   Maruti    Swift Dzire VDi  \n",
              "17        90  Hyundai  i20 1.4 CRDi Asta  "
            ]
          },
          "metadata": {},
          "output_type": "display_data"
        },
        {
          "name": "stdout",
          "output_type": "stream",
          "text": [
            "<class 'pandas.core.frame.DataFrame'>\n",
            "Index: 1977 entries, 0 to 8125\n",
            "Data columns (total 10 columns):\n",
            " #   Column         Non-Null Count  Dtype  \n",
            "---  ------         --------------  -----  \n",
            " 0   year           1977 non-null   int64  \n",
            " 1   selling_price  1977 non-null   int64  \n",
            " 2   km_driven      1977 non-null   int64  \n",
            " 3   fuel           1977 non-null   object \n",
            " 4   transmission   1977 non-null   object \n",
            " 5   owner          1977 non-null   object \n",
            " 6   engine         1977 non-null   float64\n",
            " 7   max_power      1977 non-null   object \n",
            " 8   brand          1977 non-null   object \n",
            " 9   model          1977 non-null   object \n",
            "dtypes: float64(1), int64(3), object(6)\n",
            "memory usage: 169.9+ KB\n"
          ]
        },
        {
          "data": {
            "application/vnd.microsoft.datawrangler.viewer.v0+json": {
              "columns": [
                {
                  "name": "index",
                  "rawType": "object",
                  "type": "string"
                },
                {
                  "name": "count",
                  "rawType": "float64",
                  "type": "float"
                },
                {
                  "name": "mean",
                  "rawType": "float64",
                  "type": "float"
                },
                {
                  "name": "std",
                  "rawType": "float64",
                  "type": "float"
                },
                {
                  "name": "min",
                  "rawType": "float64",
                  "type": "float"
                },
                {
                  "name": "25%",
                  "rawType": "float64",
                  "type": "float"
                },
                {
                  "name": "50%",
                  "rawType": "float64",
                  "type": "float"
                },
                {
                  "name": "75%",
                  "rawType": "float64",
                  "type": "float"
                },
                {
                  "name": "max",
                  "rawType": "float64",
                  "type": "float"
                }
              ],
              "ref": "72de2da8-0f3c-4259-9392-1b76c8059c7f",
              "rows": [
                [
                  "year",
                  "1977.0",
                  "2014.178047546788",
                  "3.720724271022649",
                  "1994.0",
                  "2012.0",
                  "2015.0",
                  "2017.0",
                  "2020.0"
                ],
                [
                  "selling_price",
                  "1977.0",
                  "647419.2842690946",
                  "811289.4181476869",
                  "40000.0",
                  "270000.0",
                  "455000.0",
                  "680000.0",
                  "10000000.0"
                ],
                [
                  "km_driven",
                  "1977.0",
                  "67911.105209914",
                  "46676.37655732623",
                  "1.0",
                  "35000.0",
                  "60000.0",
                  "90000.0",
                  "500000.0"
                ],
                [
                  "engine",
                  "1977.0",
                  "1452.1557916034396",
                  "496.0042108023857",
                  "624.0",
                  "1197.0",
                  "1248.0",
                  "1582.0",
                  "3604.0"
                ]
              ],
              "shape": {
                "columns": 8,
                "rows": 4
              }
            },
            "text/html": [
              "<div>\n",
              "<style scoped>\n",
              "    .dataframe tbody tr th:only-of-type {\n",
              "        vertical-align: middle;\n",
              "    }\n",
              "\n",
              "    .dataframe tbody tr th {\n",
              "        vertical-align: top;\n",
              "    }\n",
              "\n",
              "    .dataframe thead th {\n",
              "        text-align: right;\n",
              "    }\n",
              "</style>\n",
              "<table border=\"1\" class=\"dataframe\">\n",
              "  <thead>\n",
              "    <tr style=\"text-align: right;\">\n",
              "      <th></th>\n",
              "      <th>count</th>\n",
              "      <th>mean</th>\n",
              "      <th>std</th>\n",
              "      <th>min</th>\n",
              "      <th>25%</th>\n",
              "      <th>50%</th>\n",
              "      <th>75%</th>\n",
              "      <th>max</th>\n",
              "    </tr>\n",
              "  </thead>\n",
              "  <tbody>\n",
              "    <tr>\n",
              "      <th>year</th>\n",
              "      <td>1977.0</td>\n",
              "      <td>2014.178048</td>\n",
              "      <td>3.720724</td>\n",
              "      <td>1994.0</td>\n",
              "      <td>2012.0</td>\n",
              "      <td>2015.0</td>\n",
              "      <td>2017.0</td>\n",
              "      <td>2020.0</td>\n",
              "    </tr>\n",
              "    <tr>\n",
              "      <th>selling_price</th>\n",
              "      <td>1977.0</td>\n",
              "      <td>647419.284269</td>\n",
              "      <td>811289.418148</td>\n",
              "      <td>40000.0</td>\n",
              "      <td>270000.0</td>\n",
              "      <td>455000.0</td>\n",
              "      <td>680000.0</td>\n",
              "      <td>10000000.0</td>\n",
              "    </tr>\n",
              "    <tr>\n",
              "      <th>km_driven</th>\n",
              "      <td>1977.0</td>\n",
              "      <td>67911.105210</td>\n",
              "      <td>46676.376557</td>\n",
              "      <td>1.0</td>\n",
              "      <td>35000.0</td>\n",
              "      <td>60000.0</td>\n",
              "      <td>90000.0</td>\n",
              "      <td>500000.0</td>\n",
              "    </tr>\n",
              "    <tr>\n",
              "      <th>engine</th>\n",
              "      <td>1977.0</td>\n",
              "      <td>1452.155792</td>\n",
              "      <td>496.004211</td>\n",
              "      <td>624.0</td>\n",
              "      <td>1197.0</td>\n",
              "      <td>1248.0</td>\n",
              "      <td>1582.0</td>\n",
              "      <td>3604.0</td>\n",
              "    </tr>\n",
              "  </tbody>\n",
              "</table>\n",
              "</div>"
            ],
            "text/plain": [
              "                count           mean            std      min       25%  \\\n",
              "year           1977.0    2014.178048       3.720724   1994.0    2012.0   \n",
              "selling_price  1977.0  647419.284269  811289.418148  40000.0  270000.0   \n",
              "km_driven      1977.0   67911.105210   46676.376557      1.0   35000.0   \n",
              "engine         1977.0    1452.155792     496.004211    624.0    1197.0   \n",
              "\n",
              "                    50%       75%         max  \n",
              "year             2015.0    2017.0      2020.0  \n",
              "selling_price  455000.0  680000.0  10000000.0  \n",
              "km_driven       60000.0   90000.0    500000.0  \n",
              "engine           1248.0    1582.0      3604.0  "
            ]
          },
          "execution_count": 2,
          "metadata": {},
          "output_type": "execute_result"
        }
      ],
      "source": [
        "#loading the data and partial cleanup\n",
        "df = pd.read_csv(\"cardekho.csv\").dropna();\n",
        "\n",
        "#df = df.rename(columns={\"engine\": 'Engine_Size', 'km_driven': 'Mileage', \"selling_price\" : \"Price\", \"year\": \"Year\",'fuel':\"Fuel_Type\", 'transmission':\"Transmission\", 'owner':\"Owner\", \"max_power\": \"Max_Power\"});\n",
        "df['brand'] = df['name'].str.split(' ').str[0]\n",
        "df['model'] = df['name'].str.split(' ').str[1:].str.join(' ')\n",
        "df = df.drop(columns = [\"mileage(km/ltr/kg)\",\"name\",\"seller_type\",\"seats\"])\n",
        "df = df.iloc[::4]\n",
        "df.columns = df.columns.str.replace(\" \", \"_\") # adjusting column names\n",
        "display(df.head())      # first 5 rows\n",
        "df.shape                 # how many rows x columns\n",
        "df.info()                # data types + non-null counts\n",
        "df.describe().T          # summary statistics for numeric features\n"
      ]
    },
    {
      "cell_type": "markdown",
      "metadata": {
        "id": "cN6jYmRxPc48"
      },
      "source": [
        "## Price distribution"
      ]
    },
    {
      "cell_type": "code",
      "execution_count": 3,
      "metadata": {
        "colab": {
          "base_uri": "https://localhost:8080/",
          "height": 472
        },
        "id": "5JDHXmMfEDkR",
        "outputId": "8922835e-da72-4006-b53c-d08d4033ba54"
      },
      "outputs": [
        {
          "data": {
            "image/png": "[encoded data removed]",
            "text/plain": [
              "<Figure size 640x480 with 1 Axes>"
            ]
          },
          "metadata": {},
          "output_type": "display_data"
        }
      ],
      "source": [
        "plt.hist(df[\"selling_price\"], bins=30)\n",
        "plt.title(\"Rozkład cen\")\n",
        "plt.xlabel(\"Cena\")\n",
        "plt.ylabel(\"Ilosc\")\n",
        "plt.show()"
      ]
    },
    {
      "cell_type": "markdown",
      "metadata": {
        "id": "c1lZJ_CaPhv3"
      },
      "source": [
        "## Category features counts"
      ]
    },
    {
      "cell_type": "code",
      "execution_count": 4,
      "metadata": {
        "colab": {
          "base_uri": "https://localhost:8080/"
        },
        "id": "cOQPsHuAEmu8",
        "outputId": "9d656471-9f60-4c22-8ef0-d87e495845a9"
      },
      "outputs": [
        {
          "name": "stdout",
          "output_type": "stream",
          "text": [
            "fuel\n",
            "Diesel    1066\n",
            "Petrol     888\n",
            "CNG         14\n",
            "LPG          9\n",
            "Name: count, dtype: int64\n",
            "transmission\n",
            "Manual       1739\n",
            "Automatic     238\n",
            "Name: count, dtype: int64\n",
            "owner\n",
            "First Owner             1329\n",
            "Second Owner             491\n",
            "Third Owner              122\n",
            "Fourth & Above Owner      32\n",
            "Test Drive Car             3\n",
            "Name: count, dtype: int64\n"
          ]
        }
      ],
      "source": [
        "print(df[\"fuel\"].value_counts())\n",
        "print(df[\"transmission\"].value_counts())\n",
        "print(df[\"owner\"].value_counts())"
      ]
    },
    {
      "cell_type": "markdown",
      "metadata": {
        "id": "tiO0ToX_PTS6"
      },
      "source": [
        "## Correlation heatmap for numeric features\n"
      ]
    },
    {
      "cell_type": "code",
      "execution_count": 5,
      "metadata": {
        "colab": {
          "base_uri": "https://localhost:8080/",
          "height": 407
        },
        "id": "rI9X5MT-GaNg",
        "outputId": "6e731986-5704-4336-8b31-528e5ce8f247"
      },
      "outputs": [
        {
          "data": {
            "image/png": "[encoded data removed]",
            "text/plain": [
              "<Figure size 600x400 with 2 Axes>"
            ]
          },
          "metadata": {},
          "output_type": "display_data"
        }
      ],
      "source": [
        "numeric_cols = [\"year\", \"engine\", \"km_driven\", \"selling_price\",\"max_power\"]\n",
        "corr = df[numeric_cols].corr()\n",
        "plt.figure(figsize=(6,4))\n",
        "plt.imshow(corr, cmap=\"berlin\", vmin=-1, vmax=1)\n",
        "plt.xticks(range(len(numeric_cols)), numeric_cols, rotation=45)\n",
        "plt.yticks(range(len(numeric_cols)), numeric_cols)\n",
        "for i in range(len(numeric_cols)):\n",
        "    for j in range(len(numeric_cols)):\n",
        "        plt.text(j, i, f\"{corr.iloc[i,j]:.2f}\", ha=\"center\", va=\"center\", color=\"white\")\n",
        "plt.title(\"Correlation Matrix\")\n",
        "plt.colorbar()\n",
        "plt.tight_layout()\n",
        "plt.show()"
      ]
    },
    {
      "cell_type": "code",
      "execution_count": 19,
      "metadata": {
        "id": "eD-Po1H0Ps8x"
      },
      "outputs": [],
      "source": [
        "X = df.drop(columns=[\"selling_price\"]) \n",
        "y = df[\"selling_price\"]\n",
        "\n",
        "X_train, X_test, y_train, y_test = train_test_split(X, y, test_size= 0.2, random_state = 42) # train/test split"
      ]
    },
    {
      "cell_type": "code",
      "execution_count": null,
      "metadata": {
        "id": "e_C1XniAT1Zw"
      },
      "outputs": [],
      "source": [
        "numeric_features = [\"year\", \"engine\", \"km_driven\",\"max_power\"]\n",
        "categorical_features = [\"brand\", \"fuel\", \"transmission\",  \"model\",\"owner\"] # \"Condition\",\n",
        "\n",
        "numeric_transformer = StandardScaler()\n",
        "categorical_transformer = OneHotEncoder(handle_unknown=\"ignore\", sparse_output=False)\n",
        "preprocessor = ColumnTransformer(\n",
        "    transformers=[\n",
        "        (\"num\", numeric_transformer, numeric_features),\n",
        "        (\"cat\", categorical_transformer, categorical_features)\n",
        "    ]\n",
        ")"
      ]
    },
    {
      "cell_type": "markdown",
      "metadata": {
        "id": "-vy0BTfjgPfq"
      },
      "source": [
        "## Baseline models"
      ]
    },
    {
      "cell_type": "markdown",
      "metadata": {
        "id": "EzDFyoiygUak"
      },
      "source": [
        "### Random Forest Baseline"
      ]
    },
    {
      "cell_type": "code",
      "execution_count": 21,
      "metadata": {
        "id": "kMjXNwwYgLt2"
      },
      "outputs": [],
      "source": [
        "rf_pipeline = Pipeline([\n",
        "    (\"preprocess\", preprocessor),\n",
        "    (\"rf\", RandomForestRegressor(random_state=42))\n",
        "])\n",
        "rf_pipeline.fit(X_train, y_train)\n",
        "y_pred_rf = rf_pipeline.predict(X_test)\n"
      ]
    },
    {
      "cell_type": "markdown",
      "metadata": {
        "id": "Vkrs_VhslEi8"
      },
      "source": [
        "### SVR baseline"
      ]
    },
    {
      "cell_type": "code",
      "execution_count": 22,
      "metadata": {
        "id": "Q69jpkIRm53I"
      },
      "outputs": [],
      "source": [
        "svr_pipeline = Pipeline([\n",
        "    (\"preprocess\", preprocessor),\n",
        "    (\"svr\", SVR(kernel=\"rbf\"))\n",
        "])\n",
        "svr_pipeline.fit(X_train, y_train)\n",
        "y_pred_svr = svr_pipeline.predict(X_test)"
      ]
    },
    {
      "cell_type": "markdown",
      "metadata": {
        "id": "B_LyPSckoqAE"
      },
      "source": [
        "### MLPRegressor baseline"
      ]
    },
    {
      "cell_type": "code",
      "execution_count": 23,
      "metadata": {
        "colab": {
          "base_uri": "https://localhost:8080/"
        },
        "id": "CSNyr5RIosc_",
        "outputId": "acb9dc43-50ed-4581-f209-97f9ca2a2097"
      },
      "outputs": [],
      "source": [
        "mlp_pipeline = Pipeline([\n",
        "    (\"preprocess\", preprocessor),\n",
        "    (\"mlp\", MLPRegressor(random_state=42, solver=\"adam\", early_stopping=True))\n",
        "    #(\"mlp\", MLPRegressor(random_state=42, solver=\"lbfgs\", max_iter=1000))\n",
        "])\n",
        "mlp_pipeline.fit(X_train, y_train)\n",
        "y_pred_mlp = mlp_pipeline.predict(X_test)"
      ]
    },
    {
      "cell_type": "markdown",
      "metadata": {
        "id": "s5C95NlQq2UL"
      },
      "source": [
        "### Baseline evaluation"
      ]
    },
    {
      "cell_type": "code",
      "execution_count": 24,
      "metadata": {
        "colab": {
          "base_uri": "https://localhost:8080/",
          "height": 143
        },
        "id": "v4rcXZIEqygK",
        "outputId": "49f6e285-31f7-421f-89aa-a574ea1b0822"
      },
      "outputs": [
        {
          "data": {
            "application/vnd.microsoft.datawrangler.viewer.v0+json": {
              "columns": [
                {
                  "name": "index",
                  "rawType": "int64",
                  "type": "integer"
                },
                {
                  "name": "Model",
                  "rawType": "object",
                  "type": "string"
                },
                {
                  "name": "MAE",
                  "rawType": "float64",
                  "type": "float"
                },
                {
                  "name": "RMSE",
                  "rawType": "float64",
                  "type": "float"
                },
                {
                  "name": "R2",
                  "rawType": "float64",
                  "type": "float"
                }
              ],
              "ref": "665f8c67-5ed9-4e2e-b2c6-6db9e97496f0",
              "rows": [
                [
                  "0",
                  "RandomForest(default)",
                  "89611.08819264069",
                  "193713.4421453347",
                  "0.9343922276400554"
                ],
                [
                  "1",
                  "SVR(default)",
                  "385311.4553416624",
                  "780249.8268476679",
                  "-0.0643957636234096"
                ],
                [
                  "2",
                  "MLP(default)",
                  "647050.4351153541",
                  "995303.4780809771",
                  "-0.7319957374684325"
                ]
              ],
              "shape": {
                "columns": 4,
                "rows": 3
              }
            },
            "text/html": [
              "<div>\n",
              "<style scoped>\n",
              "    .dataframe tbody tr th:only-of-type {\n",
              "        vertical-align: middle;\n",
              "    }\n",
              "\n",
              "    .dataframe tbody tr th {\n",
              "        vertical-align: top;\n",
              "    }\n",
              "\n",
              "    .dataframe thead th {\n",
              "        text-align: right;\n",
              "    }\n",
              "</style>\n",
              "<table border=\"1\" class=\"dataframe\">\n",
              "  <thead>\n",
              "    <tr style=\"text-align: right;\">\n",
              "      <th></th>\n",
              "      <th>Model</th>\n",
              "      <th>MAE</th>\n",
              "      <th>RMSE</th>\n",
              "      <th>R2</th>\n",
              "    </tr>\n",
              "  </thead>\n",
              "  <tbody>\n",
              "    <tr>\n",
              "      <th>0</th>\n",
              "      <td>RandomForest(default)</td>\n",
              "      <td>89611.088193</td>\n",
              "      <td>193713.442145</td>\n",
              "      <td>0.934392</td>\n",
              "    </tr>\n",
              "    <tr>\n",
              "      <th>1</th>\n",
              "      <td>SVR(default)</td>\n",
              "      <td>385311.455342</td>\n",
              "      <td>780249.826848</td>\n",
              "      <td>-0.064396</td>\n",
              "    </tr>\n",
              "    <tr>\n",
              "      <th>2</th>\n",
              "      <td>MLP(default)</td>\n",
              "      <td>647050.435115</td>\n",
              "      <td>995303.478081</td>\n",
              "      <td>-0.731996</td>\n",
              "    </tr>\n",
              "  </tbody>\n",
              "</table>\n",
              "</div>"
            ],
            "text/plain": [
              "                   Model            MAE           RMSE        R2\n",
              "0  RandomForest(default)   89611.088193  193713.442145  0.934392\n",
              "1           SVR(default)  385311.455342  780249.826848 -0.064396\n",
              "2           MLP(default)  647050.435115  995303.478081 -0.731996"
            ]
          },
          "metadata": {},
          "output_type": "display_data"
        }
      ],
      "source": [
        "def evaluate(name, y_true, y_pred):\n",
        "    mae = mean_absolute_error(y_true, y_pred) # mean absolute error\n",
        "    rmse = np.sqrt(mean_squared_error(y_true, y_pred)) # root mean squared error\n",
        "    r2 = r2_score(y_true, y_pred) # r2 score\n",
        "    return pd.Series([name, mae, rmse, r2], index=[\"Model\", \"MAE\", \"RMSE\", \"R2\"])\n",
        "\n",
        "results = pd.DataFrame([\n",
        "    evaluate(\"RandomForest(default)\", y_test, y_pred_rf),\n",
        "    evaluate(\"SVR(default)\",        y_test, y_pred_svr),\n",
        "    evaluate(\"MLP(default)\",        y_test, y_pred_mlp)\n",
        "])\n",
        "display(results)"
      ]
    },
    {
      "cell_type": "markdown",
      "metadata": {
        "id": "G5Di97DGs1MU"
      },
      "source": [
        "## Hyperparameter tuning"
      ]
    },
    {
      "cell_type": "code",
      "execution_count": 25,
      "metadata": {
        "id": "UIDZlvWes0X_"
      },
      "outputs": [],
      "source": [
        "param_grids = {\n",
        "    \"rf\": {\n",
        "        \"rf__n_estimators\": [200],                \n",
        "        \"rf__max_depth\": [None, 15],              \n",
        "        \"rf__min_samples_leaf\": [1, 2],          \n",
        "        \"rf__max_features\": [\"sqrt\", 0.5]        \n",
        "\n",
        "    },\n",
        "    \"svr\": {\n",
        "        \"svr__kernel\": [\"linear\", \"rbf\"],\n",
        "        \"svr__C\": [0.1, 1, 10, 100],\n",
        "        \"svr__gamma\": [0.01, 0.1, 1, \"scale\", \"auto\"]\n",
        "    },\n",
        "    \"mlp\": {\n",
        "        \"mlp__hidden_layer_sizes\": [(64,), (128,64)],\n",
        "        \"mlp__activation\": [\"relu\", \"tanh\"],\n",
        "        \"mlp__alpha\": [1e-3, 1e-4],\n",
        "        \"mlp__learning_rate_init\": [0.001, 0.01],\n",
        "        \"mlp__solver\": [\"adam\", \"lbfgs\"],\n",
        "        \"mlp__early_stopping\": [True]\n",
        "    }\n",
        "}\n",
        "\n",
        "searches = {}"
      ]
    },
    {
      "cell_type": "markdown",
      "metadata": {
        "id": "xdNP8wbHx23V"
      },
      "source": [
        "### Random Forest search"
      ]
    },
    {
      "cell_type": "code",
      "execution_count": 26,
      "metadata": {
        "id": "jUOM77Lwx79y"
      },
      "outputs": [],
      "source": [
        "searches[\"rf_search\"] = GridSearchCV(\n",
        "    rf_pipeline,\n",
        "    param_grid=param_grids[\"rf\"],\n",
        "    cv=5, # 5-fold cross-validation\n",
        "    scoring=\"neg_root_mean_squared_error\",\n",
        "    n_jobs=-1\n",
        ")"
      ]
    },
    {
      "cell_type": "markdown",
      "metadata": {
        "id": "22q-XBFsyAgq"
      },
      "source": [
        "### SVR search"
      ]
    },
    {
      "cell_type": "code",
      "execution_count": 27,
      "metadata": {
        "id": "1fpd30BcyB9I"
      },
      "outputs": [],
      "source": [
        "searches[\"svr_search\"] = GridSearchCV(\n",
        "    svr_pipeline,\n",
        "    param_grid=param_grids[\"svr\"],\n",
        "    cv=5,\n",
        "    scoring=\"neg_root_mean_squared_error\",\n",
        "    n_jobs=-1\n",
        ")"
      ]
    },
    {
      "cell_type": "markdown",
      "metadata": {
        "id": "tQca83UNyEWq"
      },
      "source": [
        "### MLP search"
      ]
    },
    {
      "cell_type": "code",
      "execution_count": 28,
      "metadata": {
        "id": "JvXEG-q1yF1C"
      },
      "outputs": [],
      "source": [
        "searches[\"mlp_search\"] = GridSearchCV(\n",
        "    mlp_pipeline,\n",
        "    param_grid=param_grids[\"mlp\"],\n",
        "    cv=5,\n",
        "    scoring=\"neg_root_mean_squared_error\",\n",
        "    n_jobs=-1\n",
        ")"
      ]
    },
    {
      "cell_type": "markdown",
      "metadata": {
        "id": "5Ht58IcGzwsZ"
      },
      "source": [
        "### Running the searches"
      ]
    },
    {
      "cell_type": "code",
      "execution_count": 29,
      "metadata": {
        "id": "jhmirbDFzwPO"
      },
      "outputs": [
        {
          "name": "stderr",
          "output_type": "stream",
          "text": [
            "/Users/olek/Documents/dl/ml/.venv/lib/python3.12/site-packages/sklearn/neural_network/_multilayer_perceptron.py:546: ConvergenceWarning: lbfgs failed to converge (status=1):\n",
            "STOP: TOTAL NO. OF ITERATIONS REACHED LIMIT.\n",
            "\n",
            "Increase the number of iterations (max_iter) or scale the data as shown in:\n",
            "    https://scikit-learn.org/stable/modules/preprocessing.html\n",
            "  self.n_iter_ = _check_optimize_result(\"lbfgs\", opt_res, self.max_iter)\n",
            "/Users/olek/Documents/dl/ml/.venv/lib/python3.12/site-packages/sklearn/neural_network/_multilayer_perceptron.py:546: ConvergenceWarning: lbfgs failed to converge (status=1):\n",
            "STOP: TOTAL NO. OF ITERATIONS REACHED LIMIT.\n",
            "\n",
            "Increase the number of iterations (max_iter) or scale the data as shown in:\n",
            "    https://scikit-learn.org/stable/modules/preprocessing.html\n",
            "  self.n_iter_ = _check_optimize_result(\"lbfgs\", opt_res, self.max_iter)\n",
            "/Users/olek/Documents/dl/ml/.venv/lib/python3.12/site-packages/sklearn/neural_network/_multilayer_perceptron.py:546: ConvergenceWarning: lbfgs failed to converge (status=1):\n",
            "STOP: TOTAL NO. OF ITERATIONS REACHED LIMIT.\n",
            "\n",
            "Increase the number of iterations (max_iter) or scale the data as shown in:\n",
            "    https://scikit-learn.org/stable/modules/preprocessing.html\n",
            "  self.n_iter_ = _check_optimize_result(\"lbfgs\", opt_res, self.max_iter)\n",
            "/Users/olek/Documents/dl/ml/.venv/lib/python3.12/site-packages/sklearn/neural_network/_multilayer_perceptron.py:691: ConvergenceWarning: Stochastic Optimizer: Maximum iterations (200) reached and the optimization hasn't converged yet.\n",
            "  warnings.warn(\n",
            "/Users/olek/Documents/dl/ml/.venv/lib/python3.12/site-packages/sklearn/neural_network/_multilayer_perceptron.py:546: ConvergenceWarning: lbfgs failed to converge (status=1):\n",
            "STOP: TOTAL NO. OF ITERATIONS REACHED LIMIT.\n",
            "\n",
            "Increase the number of iterations (max_iter) or scale the data as shown in:\n",
            "    https://scikit-learn.org/stable/modules/preprocessing.html\n",
            "  self.n_iter_ = _check_optimize_result(\"lbfgs\", opt_res, self.max_iter)\n",
            "/Users/olek/Documents/dl/ml/.venv/lib/python3.12/site-packages/sklearn/neural_network/_multilayer_perceptron.py:546: ConvergenceWarning: lbfgs failed to converge (status=1):\n",
            "STOP: TOTAL NO. OF ITERATIONS REACHED LIMIT.\n",
            "\n",
            "Increase the number of iterations (max_iter) or scale the data as shown in:\n",
            "    https://scikit-learn.org/stable/modules/preprocessing.html\n",
            "  self.n_iter_ = _check_optimize_result(\"lbfgs\", opt_res, self.max_iter)\n",
            "/Users/olek/Documents/dl/ml/.venv/lib/python3.12/site-packages/sklearn/neural_network/_multilayer_perceptron.py:691: ConvergenceWarning: Stochastic Optimizer: Maximum iterations (200) reached and the optimization hasn't converged yet.\n",
            "  warnings.warn(\n",
            "/Users/olek/Documents/dl/ml/.venv/lib/python3.12/site-packages/sklearn/neural_network/_multilayer_perceptron.py:546: ConvergenceWarning: lbfgs failed to converge (status=1):\n",
            "STOP: TOTAL NO. OF ITERATIONS REACHED LIMIT.\n",
            "\n",
            "Increase the number of iterations (max_iter) or scale the data as shown in:\n",
            "    https://scikit-learn.org/stable/modules/preprocessing.html\n",
            "  self.n_iter_ = _check_optimize_result(\"lbfgs\", opt_res, self.max_iter)\n",
            "/Users/olek/Documents/dl/ml/.venv/lib/python3.12/site-packages/sklearn/neural_network/_multilayer_perceptron.py:546: ConvergenceWarning: lbfgs failed to converge (status=1):\n",
            "STOP: TOTAL NO. OF ITERATIONS REACHED LIMIT.\n",
            "\n",
            "Increase the number of iterations (max_iter) or scale the data as shown in:\n",
            "    https://scikit-learn.org/stable/modules/preprocessing.html\n",
            "  self.n_iter_ = _check_optimize_result(\"lbfgs\", opt_res, self.max_iter)\n",
            "/Users/olek/Documents/dl/ml/.venv/lib/python3.12/site-packages/sklearn/neural_network/_multilayer_perceptron.py:546: ConvergenceWarning: lbfgs failed to converge (status=1):\n",
            "STOP: TOTAL NO. OF ITERATIONS REACHED LIMIT.\n",
            "\n",
            "Increase the number of iterations (max_iter) or scale the data as shown in:\n",
            "    https://scikit-learn.org/stable/modules/preprocessing.html\n",
            "  self.n_iter_ = _check_optimize_result(\"lbfgs\", opt_res, self.max_iter)\n",
            "/Users/olek/Documents/dl/ml/.venv/lib/python3.12/site-packages/sklearn/neural_network/_multilayer_perceptron.py:546: ConvergenceWarning: lbfgs failed to converge (status=1):\n",
            "STOP: TOTAL NO. OF ITERATIONS REACHED LIMIT.\n",
            "\n",
            "Increase the number of iterations (max_iter) or scale the data as shown in:\n",
            "    https://scikit-learn.org/stable/modules/preprocessing.html\n",
            "  self.n_iter_ = _check_optimize_result(\"lbfgs\", opt_res, self.max_iter)\n",
            "/Users/olek/Documents/dl/ml/.venv/lib/python3.12/site-packages/sklearn/neural_network/_multilayer_perceptron.py:546: ConvergenceWarning: lbfgs failed to converge (status=1):\n",
            "STOP: TOTAL NO. OF ITERATIONS REACHED LIMIT.\n",
            "\n",
            "Increase the number of iterations (max_iter) or scale the data as shown in:\n",
            "    https://scikit-learn.org/stable/modules/preprocessing.html\n",
            "  self.n_iter_ = _check_optimize_result(\"lbfgs\", opt_res, self.max_iter)\n",
            "/Users/olek/Documents/dl/ml/.venv/lib/python3.12/site-packages/sklearn/neural_network/_multilayer_perceptron.py:546: ConvergenceWarning: lbfgs failed to converge (status=1):\n",
            "STOP: TOTAL NO. OF ITERATIONS REACHED LIMIT.\n",
            "\n",
            "Increase the number of iterations (max_iter) or scale the data as shown in:\n",
            "    https://scikit-learn.org/stable/modules/preprocessing.html\n",
            "  self.n_iter_ = _check_optimize_result(\"lbfgs\", opt_res, self.max_iter)\n",
            "/Users/olek/Documents/dl/ml/.venv/lib/python3.12/site-packages/sklearn/neural_network/_multilayer_perceptron.py:546: ConvergenceWarning: lbfgs failed to converge (status=1):\n",
            "STOP: TOTAL NO. OF ITERATIONS REACHED LIMIT.\n",
            "\n",
            "Increase the number of iterations (max_iter) or scale the data as shown in:\n",
            "    https://scikit-learn.org/stable/modules/preprocessing.html\n",
            "  self.n_iter_ = _check_optimize_result(\"lbfgs\", opt_res, self.max_iter)\n",
            "/Users/olek/Documents/dl/ml/.venv/lib/python3.12/site-packages/sklearn/neural_network/_multilayer_perceptron.py:691: ConvergenceWarning: Stochastic Optimizer: Maximum iterations (200) reached and the optimization hasn't converged yet.\n",
            "  warnings.warn(\n",
            "/Users/olek/Documents/dl/ml/.venv/lib/python3.12/site-packages/sklearn/neural_network/_multilayer_perceptron.py:546: ConvergenceWarning: lbfgs failed to converge (status=1):\n",
            "STOP: TOTAL NO. OF ITERATIONS REACHED LIMIT.\n",
            "\n",
            "Increase the number of iterations (max_iter) or scale the data as shown in:\n",
            "    https://scikit-learn.org/stable/modules/preprocessing.html\n",
            "  self.n_iter_ = _check_optimize_result(\"lbfgs\", opt_res, self.max_iter)\n",
            "/Users/olek/Documents/dl/ml/.venv/lib/python3.12/site-packages/sklearn/neural_network/_multilayer_perceptron.py:691: ConvergenceWarning: Stochastic Optimizer: Maximum iterations (200) reached and the optimization hasn't converged yet.\n",
            "  warnings.warn(\n",
            "/Users/olek/Documents/dl/ml/.venv/lib/python3.12/site-packages/sklearn/neural_network/_multilayer_perceptron.py:546: ConvergenceWarning: lbfgs failed to converge (status=1):\n",
            "STOP: TOTAL NO. OF ITERATIONS REACHED LIMIT.\n",
            "\n",
            "Increase the number of iterations (max_iter) or scale the data as shown in:\n",
            "    https://scikit-learn.org/stable/modules/preprocessing.html\n",
            "  self.n_iter_ = _check_optimize_result(\"lbfgs\", opt_res, self.max_iter)\n",
            "/Users/olek/Documents/dl/ml/.venv/lib/python3.12/site-packages/sklearn/neural_network/_multilayer_perceptron.py:546: ConvergenceWarning: lbfgs failed to converge (status=1):\n",
            "STOP: TOTAL NO. OF ITERATIONS REACHED LIMIT.\n",
            "\n",
            "Increase the number of iterations (max_iter) or scale the data as shown in:\n",
            "    https://scikit-learn.org/stable/modules/preprocessing.html\n",
            "  self.n_iter_ = _check_optimize_result(\"lbfgs\", opt_res, self.max_iter)\n",
            "/Users/olek/Documents/dl/ml/.venv/lib/python3.12/site-packages/sklearn/neural_network/_multilayer_perceptron.py:546: ConvergenceWarning: lbfgs failed to converge (status=1):\n",
            "STOP: TOTAL NO. OF ITERATIONS REACHED LIMIT.\n",
            "\n",
            "Increase the number of iterations (max_iter) or scale the data as shown in:\n",
            "    https://scikit-learn.org/stable/modules/preprocessing.html\n",
            "  self.n_iter_ = _check_optimize_result(\"lbfgs\", opt_res, self.max_iter)\n",
            "/Users/olek/Documents/dl/ml/.venv/lib/python3.12/site-packages/sklearn/neural_network/_multilayer_perceptron.py:691: ConvergenceWarning: Stochastic Optimizer: Maximum iterations (200) reached and the optimization hasn't converged yet.\n",
            "  warnings.warn(\n",
            "/Users/olek/Documents/dl/ml/.venv/lib/python3.12/site-packages/sklearn/neural_network/_multilayer_perceptron.py:546: ConvergenceWarning: lbfgs failed to converge (status=1):\n",
            "STOP: TOTAL NO. OF ITERATIONS REACHED LIMIT.\n",
            "\n",
            "Increase the number of iterations (max_iter) or scale the data as shown in:\n",
            "    https://scikit-learn.org/stable/modules/preprocessing.html\n",
            "  self.n_iter_ = _check_optimize_result(\"lbfgs\", opt_res, self.max_iter)\n",
            "/Users/olek/Documents/dl/ml/.venv/lib/python3.12/site-packages/sklearn/neural_network/_multilayer_perceptron.py:691: ConvergenceWarning: Stochastic Optimizer: Maximum iterations (200) reached and the optimization hasn't converged yet.\n",
            "  warnings.warn(\n",
            "/Users/olek/Documents/dl/ml/.venv/lib/python3.12/site-packages/sklearn/neural_network/_multilayer_perceptron.py:691: ConvergenceWarning: Stochastic Optimizer: Maximum iterations (200) reached and the optimization hasn't converged yet.\n",
            "  warnings.warn(\n",
            "/Users/olek/Documents/dl/ml/.venv/lib/python3.12/site-packages/sklearn/neural_network/_multilayer_perceptron.py:546: ConvergenceWarning: lbfgs failed to converge (status=1):\n",
            "STOP: TOTAL NO. OF ITERATIONS REACHED LIMIT.\n",
            "\n",
            "Increase the number of iterations (max_iter) or scale the data as shown in:\n",
            "    https://scikit-learn.org/stable/modules/preprocessing.html\n",
            "  self.n_iter_ = _check_optimize_result(\"lbfgs\", opt_res, self.max_iter)\n",
            "/Users/olek/Documents/dl/ml/.venv/lib/python3.12/site-packages/sklearn/neural_network/_multilayer_perceptron.py:691: ConvergenceWarning: Stochastic Optimizer: Maximum iterations (200) reached and the optimization hasn't converged yet.\n",
            "  warnings.warn(\n",
            "/Users/olek/Documents/dl/ml/.venv/lib/python3.12/site-packages/sklearn/neural_network/_multilayer_perceptron.py:546: ConvergenceWarning: lbfgs failed to converge (status=1):\n",
            "STOP: TOTAL NO. OF ITERATIONS REACHED LIMIT.\n",
            "\n",
            "Increase the number of iterations (max_iter) or scale the data as shown in:\n",
            "    https://scikit-learn.org/stable/modules/preprocessing.html\n",
            "  self.n_iter_ = _check_optimize_result(\"lbfgs\", opt_res, self.max_iter)\n",
            "/Users/olek/Documents/dl/ml/.venv/lib/python3.12/site-packages/sklearn/neural_network/_multilayer_perceptron.py:546: ConvergenceWarning: lbfgs failed to converge (status=1):\n",
            "STOP: TOTAL NO. OF ITERATIONS REACHED LIMIT.\n",
            "\n",
            "Increase the number of iterations (max_iter) or scale the data as shown in:\n",
            "    https://scikit-learn.org/stable/modules/preprocessing.html\n",
            "  self.n_iter_ = _check_optimize_result(\"lbfgs\", opt_res, self.max_iter)\n",
            "/Users/olek/Documents/dl/ml/.venv/lib/python3.12/site-packages/sklearn/neural_network/_multilayer_perceptron.py:546: ConvergenceWarning: lbfgs failed to converge (status=1):\n",
            "STOP: TOTAL NO. OF ITERATIONS REACHED LIMIT.\n",
            "\n",
            "Increase the number of iterations (max_iter) or scale the data as shown in:\n",
            "    https://scikit-learn.org/stable/modules/preprocessing.html\n",
            "  self.n_iter_ = _check_optimize_result(\"lbfgs\", opt_res, self.max_iter)\n",
            "/Users/olek/Documents/dl/ml/.venv/lib/python3.12/site-packages/sklearn/neural_network/_multilayer_perceptron.py:546: ConvergenceWarning: lbfgs failed to converge (status=1):\n",
            "STOP: TOTAL NO. OF ITERATIONS REACHED LIMIT.\n",
            "\n",
            "Increase the number of iterations (max_iter) or scale the data as shown in:\n",
            "    https://scikit-learn.org/stable/modules/preprocessing.html\n",
            "  self.n_iter_ = _check_optimize_result(\"lbfgs\", opt_res, self.max_iter)\n",
            "/Users/olek/Documents/dl/ml/.venv/lib/python3.12/site-packages/sklearn/neural_network/_multilayer_perceptron.py:546: ConvergenceWarning: lbfgs failed to converge (status=1):\n",
            "STOP: TOTAL NO. OF ITERATIONS REACHED LIMIT.\n",
            "\n",
            "Increase the number of iterations (max_iter) or scale the data as shown in:\n",
            "    https://scikit-learn.org/stable/modules/preprocessing.html\n",
            "  self.n_iter_ = _check_optimize_result(\"lbfgs\", opt_res, self.max_iter)\n",
            "/Users/olek/Documents/dl/ml/.venv/lib/python3.12/site-packages/sklearn/neural_network/_multilayer_perceptron.py:546: ConvergenceWarning: lbfgs failed to converge (status=1):\n",
            "STOP: TOTAL NO. OF ITERATIONS REACHED LIMIT.\n",
            "\n",
            "Increase the number of iterations (max_iter) or scale the data as shown in:\n",
            "    https://scikit-learn.org/stable/modules/preprocessing.html\n",
            "  self.n_iter_ = _check_optimize_result(\"lbfgs\", opt_res, self.max_iter)\n",
            "/Users/olek/Documents/dl/ml/.venv/lib/python3.12/site-packages/sklearn/neural_network/_multilayer_perceptron.py:546: ConvergenceWarning: lbfgs failed to converge (status=1):\n",
            "STOP: TOTAL NO. OF ITERATIONS REACHED LIMIT.\n",
            "\n",
            "Increase the number of iterations (max_iter) or scale the data as shown in:\n",
            "    https://scikit-learn.org/stable/modules/preprocessing.html\n",
            "  self.n_iter_ = _check_optimize_result(\"lbfgs\", opt_res, self.max_iter)\n",
            "/Users/olek/Documents/dl/ml/.venv/lib/python3.12/site-packages/sklearn/neural_network/_multilayer_perceptron.py:546: ConvergenceWarning: lbfgs failed to converge (status=1):\n",
            "STOP: TOTAL NO. OF ITERATIONS REACHED LIMIT.\n",
            "\n",
            "Increase the number of iterations (max_iter) or scale the data as shown in:\n",
            "    https://scikit-learn.org/stable/modules/preprocessing.html\n",
            "  self.n_iter_ = _check_optimize_result(\"lbfgs\", opt_res, self.max_iter)\n",
            "/Users/olek/Documents/dl/ml/.venv/lib/python3.12/site-packages/sklearn/neural_network/_multilayer_perceptron.py:546: ConvergenceWarning: lbfgs failed to converge (status=1):\n",
            "STOP: TOTAL NO. OF ITERATIONS REACHED LIMIT.\n",
            "\n",
            "Increase the number of iterations (max_iter) or scale the data as shown in:\n",
            "    https://scikit-learn.org/stable/modules/preprocessing.html\n",
            "  self.n_iter_ = _check_optimize_result(\"lbfgs\", opt_res, self.max_iter)\n",
            "/Users/olek/Documents/dl/ml/.venv/lib/python3.12/site-packages/sklearn/neural_network/_multilayer_perceptron.py:691: ConvergenceWarning: Stochastic Optimizer: Maximum iterations (200) reached and the optimization hasn't converged yet.\n",
            "  warnings.warn(\n",
            "/Users/olek/Documents/dl/ml/.venv/lib/python3.12/site-packages/sklearn/neural_network/_multilayer_perceptron.py:691: ConvergenceWarning: Stochastic Optimizer: Maximum iterations (200) reached and the optimization hasn't converged yet.\n",
            "  warnings.warn(\n",
            "/Users/olek/Documents/dl/ml/.venv/lib/python3.12/site-packages/sklearn/neural_network/_multilayer_perceptron.py:546: ConvergenceWarning: lbfgs failed to converge (status=1):\n",
            "STOP: TOTAL NO. OF ITERATIONS REACHED LIMIT.\n",
            "\n",
            "Increase the number of iterations (max_iter) or scale the data as shown in:\n",
            "    https://scikit-learn.org/stable/modules/preprocessing.html\n",
            "  self.n_iter_ = _check_optimize_result(\"lbfgs\", opt_res, self.max_iter)\n",
            "/Users/olek/Documents/dl/ml/.venv/lib/python3.12/site-packages/sklearn/neural_network/_multilayer_perceptron.py:691: ConvergenceWarning: Stochastic Optimizer: Maximum iterations (200) reached and the optimization hasn't converged yet.\n",
            "  warnings.warn(\n",
            "/Users/olek/Documents/dl/ml/.venv/lib/python3.12/site-packages/sklearn/neural_network/_multilayer_perceptron.py:691: ConvergenceWarning: Stochastic Optimizer: Maximum iterations (200) reached and the optimization hasn't converged yet.\n",
            "  warnings.warn(\n",
            "/Users/olek/Documents/dl/ml/.venv/lib/python3.12/site-packages/sklearn/neural_network/_multilayer_perceptron.py:546: ConvergenceWarning: lbfgs failed to converge (status=1):\n",
            "STOP: TOTAL NO. OF ITERATIONS REACHED LIMIT.\n",
            "\n",
            "Increase the number of iterations (max_iter) or scale the data as shown in:\n",
            "    https://scikit-learn.org/stable/modules/preprocessing.html\n",
            "  self.n_iter_ = _check_optimize_result(\"lbfgs\", opt_res, self.max_iter)\n",
            "/Users/olek/Documents/dl/ml/.venv/lib/python3.12/site-packages/sklearn/neural_network/_multilayer_perceptron.py:546: ConvergenceWarning: lbfgs failed to converge (status=1):\n",
            "STOP: TOTAL NO. OF ITERATIONS REACHED LIMIT.\n",
            "\n",
            "Increase the number of iterations (max_iter) or scale the data as shown in:\n",
            "    https://scikit-learn.org/stable/modules/preprocessing.html\n",
            "  self.n_iter_ = _check_optimize_result(\"lbfgs\", opt_res, self.max_iter)\n",
            "/Users/olek/Documents/dl/ml/.venv/lib/python3.12/site-packages/sklearn/neural_network/_multilayer_perceptron.py:546: ConvergenceWarning: lbfgs failed to converge (status=1):\n",
            "STOP: TOTAL NO. OF ITERATIONS REACHED LIMIT.\n",
            "\n",
            "Increase the number of iterations (max_iter) or scale the data as shown in:\n",
            "    https://scikit-learn.org/stable/modules/preprocessing.html\n",
            "  self.n_iter_ = _check_optimize_result(\"lbfgs\", opt_res, self.max_iter)\n",
            "/Users/olek/Documents/dl/ml/.venv/lib/python3.12/site-packages/joblib/externals/loky/process_executor.py:782: UserWarning: A worker stopped while some jobs were given to the executor. This can be caused by a too short worker timeout or by a memory leak.\n",
            "  warnings.warn(\n",
            "/Users/olek/Documents/dl/ml/.venv/lib/python3.12/site-packages/sklearn/neural_network/_multilayer_perceptron.py:546: ConvergenceWarning: lbfgs failed to converge (status=1):\n",
            "STOP: TOTAL NO. OF ITERATIONS REACHED LIMIT.\n",
            "\n",
            "Increase the number of iterations (max_iter) or scale the data as shown in:\n",
            "    https://scikit-learn.org/stable/modules/preprocessing.html\n",
            "  self.n_iter_ = _check_optimize_result(\"lbfgs\", opt_res, self.max_iter)\n",
            "/Users/olek/Documents/dl/ml/.venv/lib/python3.12/site-packages/sklearn/neural_network/_multilayer_perceptron.py:546: ConvergenceWarning: lbfgs failed to converge (status=1):\n",
            "STOP: TOTAL NO. OF ITERATIONS REACHED LIMIT.\n",
            "\n",
            "Increase the number of iterations (max_iter) or scale the data as shown in:\n",
            "    https://scikit-learn.org/stable/modules/preprocessing.html\n",
            "  self.n_iter_ = _check_optimize_result(\"lbfgs\", opt_res, self.max_iter)\n",
            "/Users/olek/Documents/dl/ml/.venv/lib/python3.12/site-packages/sklearn/neural_network/_multilayer_perceptron.py:546: ConvergenceWarning: lbfgs failed to converge (status=1):\n",
            "STOP: TOTAL NO. OF ITERATIONS REACHED LIMIT.\n",
            "\n",
            "Increase the number of iterations (max_iter) or scale the data as shown in:\n",
            "    https://scikit-learn.org/stable/modules/preprocessing.html\n",
            "  self.n_iter_ = _check_optimize_result(\"lbfgs\", opt_res, self.max_iter)\n",
            "/Users/olek/Documents/dl/ml/.venv/lib/python3.12/site-packages/sklearn/neural_network/_multilayer_perceptron.py:546: ConvergenceWarning: lbfgs failed to converge (status=1):\n",
            "STOP: TOTAL NO. OF ITERATIONS REACHED LIMIT.\n",
            "\n",
            "Increase the number of iterations (max_iter) or scale the data as shown in:\n",
            "    https://scikit-learn.org/stable/modules/preprocessing.html\n",
            "  self.n_iter_ = _check_optimize_result(\"lbfgs\", opt_res, self.max_iter)\n",
            "/Users/olek/Documents/dl/ml/.venv/lib/python3.12/site-packages/sklearn/neural_network/_multilayer_perceptron.py:546: ConvergenceWarning: lbfgs failed to converge (status=1):\n",
            "STOP: TOTAL NO. OF ITERATIONS REACHED LIMIT.\n",
            "\n",
            "Increase the number of iterations (max_iter) or scale the data as shown in:\n",
            "    https://scikit-learn.org/stable/modules/preprocessing.html\n",
            "  self.n_iter_ = _check_optimize_result(\"lbfgs\", opt_res, self.max_iter)\n",
            "/Users/olek/Documents/dl/ml/.venv/lib/python3.12/site-packages/sklearn/neural_network/_multilayer_perceptron.py:546: ConvergenceWarning: lbfgs failed to converge (status=1):\n",
            "STOP: TOTAL NO. OF ITERATIONS REACHED LIMIT.\n",
            "\n",
            "Increase the number of iterations (max_iter) or scale the data as shown in:\n",
            "    https://scikit-learn.org/stable/modules/preprocessing.html\n",
            "  self.n_iter_ = _check_optimize_result(\"lbfgs\", opt_res, self.max_iter)\n",
            "/Users/olek/Documents/dl/ml/.venv/lib/python3.12/site-packages/sklearn/neural_network/_multilayer_perceptron.py:546: ConvergenceWarning: lbfgs failed to converge (status=1):\n",
            "STOP: TOTAL NO. OF ITERATIONS REACHED LIMIT.\n",
            "\n",
            "Increase the number of iterations (max_iter) or scale the data as shown in:\n",
            "    https://scikit-learn.org/stable/modules/preprocessing.html\n",
            "  self.n_iter_ = _check_optimize_result(\"lbfgs\", opt_res, self.max_iter)\n",
            "/Users/olek/Documents/dl/ml/.venv/lib/python3.12/site-packages/sklearn/neural_network/_multilayer_perceptron.py:691: ConvergenceWarning: Stochastic Optimizer: Maximum iterations (200) reached and the optimization hasn't converged yet.\n",
            "  warnings.warn(\n",
            "/Users/olek/Documents/dl/ml/.venv/lib/python3.12/site-packages/sklearn/neural_network/_multilayer_perceptron.py:546: ConvergenceWarning: lbfgs failed to converge (status=1):\n",
            "STOP: TOTAL NO. OF ITERATIONS REACHED LIMIT.\n",
            "\n",
            "Increase the number of iterations (max_iter) or scale the data as shown in:\n",
            "    https://scikit-learn.org/stable/modules/preprocessing.html\n",
            "  self.n_iter_ = _check_optimize_result(\"lbfgs\", opt_res, self.max_iter)\n",
            "/Users/olek/Documents/dl/ml/.venv/lib/python3.12/site-packages/sklearn/neural_network/_multilayer_perceptron.py:691: ConvergenceWarning: Stochastic Optimizer: Maximum iterations (200) reached and the optimization hasn't converged yet.\n",
            "  warnings.warn(\n",
            "/Users/olek/Documents/dl/ml/.venv/lib/python3.12/site-packages/sklearn/neural_network/_multilayer_perceptron.py:546: ConvergenceWarning: lbfgs failed to converge (status=1):\n",
            "STOP: TOTAL NO. OF ITERATIONS REACHED LIMIT.\n",
            "\n",
            "Increase the number of iterations (max_iter) or scale the data as shown in:\n",
            "    https://scikit-learn.org/stable/modules/preprocessing.html\n",
            "  self.n_iter_ = _check_optimize_result(\"lbfgs\", opt_res, self.max_iter)\n",
            "/Users/olek/Documents/dl/ml/.venv/lib/python3.12/site-packages/sklearn/neural_network/_multilayer_perceptron.py:546: ConvergenceWarning: lbfgs failed to converge (status=1):\n",
            "STOP: TOTAL NO. OF ITERATIONS REACHED LIMIT.\n",
            "\n",
            "Increase the number of iterations (max_iter) or scale the data as shown in:\n",
            "    https://scikit-learn.org/stable/modules/preprocessing.html\n",
            "  self.n_iter_ = _check_optimize_result(\"lbfgs\", opt_res, self.max_iter)\n",
            "/Users/olek/Documents/dl/ml/.venv/lib/python3.12/site-packages/sklearn/neural_network/_multilayer_perceptron.py:546: ConvergenceWarning: lbfgs failed to converge (status=1):\n",
            "STOP: TOTAL NO. OF ITERATIONS REACHED LIMIT.\n",
            "\n",
            "Increase the number of iterations (max_iter) or scale the data as shown in:\n",
            "    https://scikit-learn.org/stable/modules/preprocessing.html\n",
            "  self.n_iter_ = _check_optimize_result(\"lbfgs\", opt_res, self.max_iter)\n",
            "/Users/olek/Documents/dl/ml/.venv/lib/python3.12/site-packages/sklearn/neural_network/_multilayer_perceptron.py:546: ConvergenceWarning: lbfgs failed to converge (status=1):\n",
            "STOP: TOTAL NO. OF ITERATIONS REACHED LIMIT.\n",
            "\n",
            "Increase the number of iterations (max_iter) or scale the data as shown in:\n",
            "    https://scikit-learn.org/stable/modules/preprocessing.html\n",
            "  self.n_iter_ = _check_optimize_result(\"lbfgs\", opt_res, self.max_iter)\n",
            "/Users/olek/Documents/dl/ml/.venv/lib/python3.12/site-packages/sklearn/neural_network/_multilayer_perceptron.py:546: ConvergenceWarning: lbfgs failed to converge (status=1):\n",
            "STOP: TOTAL NO. OF ITERATIONS REACHED LIMIT.\n",
            "\n",
            "Increase the number of iterations (max_iter) or scale the data as shown in:\n",
            "    https://scikit-learn.org/stable/modules/preprocessing.html\n",
            "  self.n_iter_ = _check_optimize_result(\"lbfgs\", opt_res, self.max_iter)\n",
            "/Users/olek/Documents/dl/ml/.venv/lib/python3.12/site-packages/sklearn/neural_network/_multilayer_perceptron.py:546: ConvergenceWarning: lbfgs failed to converge (status=1):\n",
            "STOP: TOTAL NO. OF ITERATIONS REACHED LIMIT.\n",
            "\n",
            "Increase the number of iterations (max_iter) or scale the data as shown in:\n",
            "    https://scikit-learn.org/stable/modules/preprocessing.html\n",
            "  self.n_iter_ = _check_optimize_result(\"lbfgs\", opt_res, self.max_iter)\n",
            "/Users/olek/Documents/dl/ml/.venv/lib/python3.12/site-packages/sklearn/neural_network/_multilayer_perceptron.py:546: ConvergenceWarning: lbfgs failed to converge (status=1):\n",
            "STOP: TOTAL NO. OF ITERATIONS REACHED LIMIT.\n",
            "\n",
            "Increase the number of iterations (max_iter) or scale the data as shown in:\n",
            "    https://scikit-learn.org/stable/modules/preprocessing.html\n",
            "  self.n_iter_ = _check_optimize_result(\"lbfgs\", opt_res, self.max_iter)\n",
            "/Users/olek/Documents/dl/ml/.venv/lib/python3.12/site-packages/sklearn/neural_network/_multilayer_perceptron.py:546: ConvergenceWarning: lbfgs failed to converge (status=1):\n",
            "STOP: TOTAL NO. OF ITERATIONS REACHED LIMIT.\n",
            "\n",
            "Increase the number of iterations (max_iter) or scale the data as shown in:\n",
            "    https://scikit-learn.org/stable/modules/preprocessing.html\n",
            "  self.n_iter_ = _check_optimize_result(\"lbfgs\", opt_res, self.max_iter)\n",
            "/Users/olek/Documents/dl/ml/.venv/lib/python3.12/site-packages/sklearn/neural_network/_multilayer_perceptron.py:546: ConvergenceWarning: lbfgs failed to converge (status=1):\n",
            "STOP: TOTAL NO. OF ITERATIONS REACHED LIMIT.\n",
            "\n",
            "Increase the number of iterations (max_iter) or scale the data as shown in:\n",
            "    https://scikit-learn.org/stable/modules/preprocessing.html\n",
            "  self.n_iter_ = _check_optimize_result(\"lbfgs\", opt_res, self.max_iter)\n",
            "/Users/olek/Documents/dl/ml/.venv/lib/python3.12/site-packages/sklearn/neural_network/_multilayer_perceptron.py:546: ConvergenceWarning: lbfgs failed to converge (status=2):\n",
            "ABNORMAL: .\n",
            "\n",
            "Increase the number of iterations (max_iter) or scale the data as shown in:\n",
            "    https://scikit-learn.org/stable/modules/preprocessing.html\n",
            "  self.n_iter_ = _check_optimize_result(\"lbfgs\", opt_res, self.max_iter)\n",
            "/Users/olek/Documents/dl/ml/.venv/lib/python3.12/site-packages/sklearn/neural_network/_multilayer_perceptron.py:546: ConvergenceWarning: lbfgs failed to converge (status=1):\n",
            "STOP: TOTAL NO. OF ITERATIONS REACHED LIMIT.\n",
            "\n",
            "Increase the number of iterations (max_iter) or scale the data as shown in:\n",
            "    https://scikit-learn.org/stable/modules/preprocessing.html\n",
            "  self.n_iter_ = _check_optimize_result(\"lbfgs\", opt_res, self.max_iter)\n",
            "/Users/olek/Documents/dl/ml/.venv/lib/python3.12/site-packages/sklearn/neural_network/_multilayer_perceptron.py:546: ConvergenceWarning: lbfgs failed to converge (status=1):\n",
            "STOP: TOTAL NO. OF ITERATIONS REACHED LIMIT.\n",
            "\n",
            "Increase the number of iterations (max_iter) or scale the data as shown in:\n",
            "    https://scikit-learn.org/stable/modules/preprocessing.html\n",
            "  self.n_iter_ = _check_optimize_result(\"lbfgs\", opt_res, self.max_iter)\n",
            "/Users/olek/Documents/dl/ml/.venv/lib/python3.12/site-packages/sklearn/neural_network/_multilayer_perceptron.py:546: ConvergenceWarning: lbfgs failed to converge (status=1):\n",
            "STOP: TOTAL NO. OF ITERATIONS REACHED LIMIT.\n",
            "\n",
            "Increase the number of iterations (max_iter) or scale the data as shown in:\n",
            "    https://scikit-learn.org/stable/modules/preprocessing.html\n",
            "  self.n_iter_ = _check_optimize_result(\"lbfgs\", opt_res, self.max_iter)\n",
            "/Users/olek/Documents/dl/ml/.venv/lib/python3.12/site-packages/sklearn/neural_network/_multilayer_perceptron.py:546: ConvergenceWarning: lbfgs failed to converge (status=2):\n",
            "ABNORMAL: .\n",
            "\n",
            "Increase the number of iterations (max_iter) or scale the data as shown in:\n",
            "    https://scikit-learn.org/stable/modules/preprocessing.html\n",
            "  self.n_iter_ = _check_optimize_result(\"lbfgs\", opt_res, self.max_iter)\n",
            "/Users/olek/Documents/dl/ml/.venv/lib/python3.12/site-packages/sklearn/neural_network/_multilayer_perceptron.py:546: ConvergenceWarning: lbfgs failed to converge (status=1):\n",
            "STOP: TOTAL NO. OF ITERATIONS REACHED LIMIT.\n",
            "\n",
            "Increase the number of iterations (max_iter) or scale the data as shown in:\n",
            "    https://scikit-learn.org/stable/modules/preprocessing.html\n",
            "  self.n_iter_ = _check_optimize_result(\"lbfgs\", opt_res, self.max_iter)\n",
            "/Users/olek/Documents/dl/ml/.venv/lib/python3.12/site-packages/sklearn/neural_network/_multilayer_perceptron.py:546: ConvergenceWarning: lbfgs failed to converge (status=1):\n",
            "STOP: TOTAL NO. OF ITERATIONS REACHED LIMIT.\n",
            "\n",
            "Increase the number of iterations (max_iter) or scale the data as shown in:\n",
            "    https://scikit-learn.org/stable/modules/preprocessing.html\n",
            "  self.n_iter_ = _check_optimize_result(\"lbfgs\", opt_res, self.max_iter)\n",
            "/Users/olek/Documents/dl/ml/.venv/lib/python3.12/site-packages/sklearn/neural_network/_multilayer_perceptron.py:546: ConvergenceWarning: lbfgs failed to converge (status=1):\n",
            "STOP: TOTAL NO. OF ITERATIONS REACHED LIMIT.\n",
            "\n",
            "Increase the number of iterations (max_iter) or scale the data as shown in:\n",
            "    https://scikit-learn.org/stable/modules/preprocessing.html\n",
            "  self.n_iter_ = _check_optimize_result(\"lbfgs\", opt_res, self.max_iter)\n",
            "/Users/olek/Documents/dl/ml/.venv/lib/python3.12/site-packages/sklearn/neural_network/_multilayer_perceptron.py:546: ConvergenceWarning: lbfgs failed to converge (status=1):\n",
            "STOP: TOTAL NO. OF ITERATIONS REACHED LIMIT.\n",
            "\n",
            "Increase the number of iterations (max_iter) or scale the data as shown in:\n",
            "    https://scikit-learn.org/stable/modules/preprocessing.html\n",
            "  self.n_iter_ = _check_optimize_result(\"lbfgs\", opt_res, self.max_iter)\n",
            "/Users/olek/Documents/dl/ml/.venv/lib/python3.12/site-packages/sklearn/neural_network/_multilayer_perceptron.py:546: ConvergenceWarning: lbfgs failed to converge (status=2):\n",
            "ABNORMAL: .\n",
            "\n",
            "Increase the number of iterations (max_iter) or scale the data as shown in:\n",
            "    https://scikit-learn.org/stable/modules/preprocessing.html\n",
            "  self.n_iter_ = _check_optimize_result(\"lbfgs\", opt_res, self.max_iter)\n",
            "/Users/olek/Documents/dl/ml/.venv/lib/python3.12/site-packages/sklearn/neural_network/_multilayer_perceptron.py:546: ConvergenceWarning: lbfgs failed to converge (status=1):\n",
            "STOP: TOTAL NO. OF ITERATIONS REACHED LIMIT.\n",
            "\n",
            "Increase the number of iterations (max_iter) or scale the data as shown in:\n",
            "    https://scikit-learn.org/stable/modules/preprocessing.html\n",
            "  self.n_iter_ = _check_optimize_result(\"lbfgs\", opt_res, self.max_iter)\n",
            "/Users/olek/Documents/dl/ml/.venv/lib/python3.12/site-packages/sklearn/neural_network/_multilayer_perceptron.py:546: ConvergenceWarning: lbfgs failed to converge (status=1):\n",
            "STOP: TOTAL NO. OF ITERATIONS REACHED LIMIT.\n",
            "\n",
            "Increase the number of iterations (max_iter) or scale the data as shown in:\n",
            "    https://scikit-learn.org/stable/modules/preprocessing.html\n",
            "  self.n_iter_ = _check_optimize_result(\"lbfgs\", opt_res, self.max_iter)\n",
            "/Users/olek/Documents/dl/ml/.venv/lib/python3.12/site-packages/sklearn/neural_network/_multilayer_perceptron.py:546: ConvergenceWarning: lbfgs failed to converge (status=1):\n",
            "STOP: TOTAL NO. OF ITERATIONS REACHED LIMIT.\n",
            "\n",
            "Increase the number of iterations (max_iter) or scale the data as shown in:\n",
            "    https://scikit-learn.org/stable/modules/preprocessing.html\n",
            "  self.n_iter_ = _check_optimize_result(\"lbfgs\", opt_res, self.max_iter)\n",
            "/Users/olek/Documents/dl/ml/.venv/lib/python3.12/site-packages/sklearn/neural_network/_multilayer_perceptron.py:546: ConvergenceWarning: lbfgs failed to converge (status=2):\n",
            "ABNORMAL: .\n",
            "\n",
            "Increase the number of iterations (max_iter) or scale the data as shown in:\n",
            "    https://scikit-learn.org/stable/modules/preprocessing.html\n",
            "  self.n_iter_ = _check_optimize_result(\"lbfgs\", opt_res, self.max_iter)\n",
            "/Users/olek/Documents/dl/ml/.venv/lib/python3.12/site-packages/sklearn/neural_network/_multilayer_perceptron.py:546: ConvergenceWarning: lbfgs failed to converge (status=1):\n",
            "STOP: TOTAL NO. OF ITERATIONS REACHED LIMIT.\n",
            "\n",
            "Increase the number of iterations (max_iter) or scale the data as shown in:\n",
            "    https://scikit-learn.org/stable/modules/preprocessing.html\n",
            "  self.n_iter_ = _check_optimize_result(\"lbfgs\", opt_res, self.max_iter)\n",
            "/Users/olek/Documents/dl/ml/.venv/lib/python3.12/site-packages/sklearn/neural_network/_multilayer_perceptron.py:546: ConvergenceWarning: lbfgs failed to converge (status=1):\n",
            "STOP: TOTAL NO. OF ITERATIONS REACHED LIMIT.\n",
            "\n",
            "Increase the number of iterations (max_iter) or scale the data as shown in:\n",
            "    https://scikit-learn.org/stable/modules/preprocessing.html\n",
            "  self.n_iter_ = _check_optimize_result(\"lbfgs\", opt_res, self.max_iter)\n",
            "/Users/olek/Documents/dl/ml/.venv/lib/python3.12/site-packages/sklearn/neural_network/_multilayer_perceptron.py:546: ConvergenceWarning: lbfgs failed to converge (status=1):\n",
            "STOP: TOTAL NO. OF ITERATIONS REACHED LIMIT.\n",
            "\n",
            "Increase the number of iterations (max_iter) or scale the data as shown in:\n",
            "    https://scikit-learn.org/stable/modules/preprocessing.html\n",
            "  self.n_iter_ = _check_optimize_result(\"lbfgs\", opt_res, self.max_iter)\n"
          ]
        }
      ],
      "source": [
        "searches[\"rf_search\"].fit(X_train, y_train);\n",
        "searches[\"svr_search\"].fit(X_train, y_train);\n",
        "searches[\"mlp_search\"].fit(X_train, y_train);\n",
        "\n",
        "best_rf = searches[\"rf_search\"].best_estimator_\n",
        "best_svr = searches[\"svr_search\"].best_estimator_\n",
        "best_mlp = searches[\"mlp_search\"].best_estimator_"
      ]
    },
    {
      "cell_type": "code",
      "execution_count": 30,
      "metadata": {
        "colab": {
          "base_uri": "https://localhost:8080/",
          "height": 143
        },
        "id": "pC_kXhoe3nfd",
        "outputId": "3cf31f36-9e0f-43e6-f437-ca3901b27106"
      },
      "outputs": [
        {
          "data": {
            "application/vnd.microsoft.datawrangler.viewer.v0+json": {
              "columns": [
                {
                  "name": "index",
                  "rawType": "int64",
                  "type": "integer"
                },
                {
                  "name": "Model",
                  "rawType": "object",
                  "type": "string"
                },
                {
                  "name": "MAE",
                  "rawType": "float64",
                  "type": "float"
                },
                {
                  "name": "RMSE",
                  "rawType": "float64",
                  "type": "float"
                },
                {
                  "name": "R2",
                  "rawType": "float64",
                  "type": "float"
                }
              ],
              "ref": "2a77edb3-b529-42ce-97d8-c019e1806746",
              "rows": [
                [
                  "2",
                  "MLP_tuned",
                  "80531.93628502009",
                  "142118.1090245866",
                  "0.9646869998717057"
                ],
                [
                  "0",
                  "RF_tuned",
                  "86202.13402821505",
                  "182532.50389151246",
                  "0.9417472814391354"
                ],
                [
                  "1",
                  "SVR_tuned",
                  "279862.9914241091",
                  "668659.8928938099",
                  "0.2182888181604138"
                ]
              ],
              "shape": {
                "columns": 4,
                "rows": 3
              }
            },
            "text/html": [
              "<div>\n",
              "<style scoped>\n",
              "    .dataframe tbody tr th:only-of-type {\n",
              "        vertical-align: middle;\n",
              "    }\n",
              "\n",
              "    .dataframe tbody tr th {\n",
              "        vertical-align: top;\n",
              "    }\n",
              "\n",
              "    .dataframe thead th {\n",
              "        text-align: right;\n",
              "    }\n",
              "</style>\n",
              "<table border=\"1\" class=\"dataframe\">\n",
              "  <thead>\n",
              "    <tr style=\"text-align: right;\">\n",
              "      <th></th>\n",
              "      <th>Model</th>\n",
              "      <th>MAE</th>\n",
              "      <th>RMSE</th>\n",
              "      <th>R2</th>\n",
              "    </tr>\n",
              "  </thead>\n",
              "  <tbody>\n",
              "    <tr>\n",
              "      <th>2</th>\n",
              "      <td>MLP_tuned</td>\n",
              "      <td>80531.936285</td>\n",
              "      <td>142118.109025</td>\n",
              "      <td>0.964687</td>\n",
              "    </tr>\n",
              "    <tr>\n",
              "      <th>0</th>\n",
              "      <td>RF_tuned</td>\n",
              "      <td>86202.134028</td>\n",
              "      <td>182532.503892</td>\n",
              "      <td>0.941747</td>\n",
              "    </tr>\n",
              "    <tr>\n",
              "      <th>1</th>\n",
              "      <td>SVR_tuned</td>\n",
              "      <td>279862.991424</td>\n",
              "      <td>668659.892894</td>\n",
              "      <td>0.218289</td>\n",
              "    </tr>\n",
              "  </tbody>\n",
              "</table>\n",
              "</div>"
            ],
            "text/plain": [
              "       Model            MAE           RMSE        R2\n",
              "2  MLP_tuned   80531.936285  142118.109025  0.964687\n",
              "0   RF_tuned   86202.134028  182532.503892  0.941747\n",
              "1  SVR_tuned  279862.991424  668659.892894  0.218289"
            ]
          },
          "metadata": {},
          "output_type": "display_data"
        }
      ],
      "source": [
        "final_results = []\n",
        "for name, model in [(\"RF_tuned\", best_rf),\n",
        "                    (\"SVR_tuned\", best_svr),\n",
        "                    (\"MLP_tuned\", best_mlp)]:\n",
        "    y_pred = model.predict(X_test)\n",
        "    final_results.append(evaluate(name, y_test, y_pred))\n",
        "\n",
        "display(pd.DataFrame(final_results).sort_values(\"RMSE\"))"
      ]
    },
    {
      "cell_type": "code",
      "execution_count": 31,
      "metadata": {},
      "outputs": [
        {
          "data": {
            "application/vnd.microsoft.datawrangler.viewer.v0+json": {
              "columns": [
                {
                  "name": "index",
                  "rawType": "int64",
                  "type": "integer"
                },
                {
                  "name": "Model",
                  "rawType": "object",
                  "type": "string"
                },
                {
                  "name": "MAE_default",
                  "rawType": "int64",
                  "type": "integer"
                },
                {
                  "name": "MAE_tuned",
                  "rawType": "int64",
                  "type": "integer"
                },
                {
                  "name": "MAE_diff",
                  "rawType": "int64",
                  "type": "integer"
                },
                {
                  "name": "MAE_%diff",
                  "rawType": "float64",
                  "type": "float"
                },
                {
                  "name": "RMSE_default",
                  "rawType": "int64",
                  "type": "integer"
                },
                {
                  "name": "RMSE_tuned",
                  "rawType": "int64",
                  "type": "integer"
                },
                {
                  "name": "RMSE_diff",
                  "rawType": "int64",
                  "type": "integer"
                },
                {
                  "name": "RMSE_%diff",
                  "rawType": "float64",
                  "type": "float"
                },
                {
                  "name": "R2_default",
                  "rawType": "float64",
                  "type": "float"
                },
                {
                  "name": "R2_tuned",
                  "rawType": "float64",
                  "type": "float"
                },
                {
                  "name": "R2_diff",
                  "rawType": "float64",
                  "type": "float"
                },
                {
                  "name": "R2_%diff",
                  "rawType": "float64",
                  "type": "float"
                }
              ],
              "ref": "808bf81f-c8ac-463f-9a25-eef1d4036eca",
              "rows": [
                [
                  "0",
                  "RandomForest",
                  "89611",
                  "86202",
                  "3409",
                  "3.8",
                  "193713",
                  "182533",
                  "11181",
                  "5.77",
                  "0.9343922276400554",
                  "0.9417472814391354",
                  "0.00735505379908008",
                  "0.79"
                ],
                [
                  "1",
                  "SVR",
                  "385311",
                  "279863",
                  "105448",
                  "27.37",
                  "780250",
                  "668660",
                  "111590",
                  "14.3",
                  "-0.0643957636234096",
                  "0.2182888181604138",
                  "0.2826845817838234",
                  "438.98"
                ],
                [
                  "2",
                  "MLP",
                  "647050",
                  "80532",
                  "566518",
                  "87.55",
                  "995303",
                  "142118",
                  "853185",
                  "85.72",
                  "-0.7319957374684325",
                  "0.9646869998717057",
                  "1.6966827373401383",
                  "231.79"
                ]
              ],
              "shape": {
                "columns": 13,
                "rows": 3
              }
            },
            "text/html": [
              "<div>\n",
              "<style scoped>\n",
              "    .dataframe tbody tr th:only-of-type {\n",
              "        vertical-align: middle;\n",
              "    }\n",
              "\n",
              "    .dataframe tbody tr th {\n",
              "        vertical-align: top;\n",
              "    }\n",
              "\n",
              "    .dataframe thead th {\n",
              "        text-align: right;\n",
              "    }\n",
              "</style>\n",
              "<table border=\"1\" class=\"dataframe\">\n",
              "  <thead>\n",
              "    <tr style=\"text-align: right;\">\n",
              "      <th></th>\n",
              "      <th>Model</th>\n",
              "      <th>MAE_default</th>\n",
              "      <th>MAE_tuned</th>\n",
              "      <th>MAE_diff</th>\n",
              "      <th>MAE_%diff</th>\n",
              "      <th>RMSE_default</th>\n",
              "      <th>RMSE_tuned</th>\n",
              "      <th>RMSE_diff</th>\n",
              "      <th>RMSE_%diff</th>\n",
              "      <th>R2_default</th>\n",
              "      <th>R2_tuned</th>\n",
              "      <th>R2_diff</th>\n",
              "      <th>R2_%diff</th>\n",
              "    </tr>\n",
              "  </thead>\n",
              "  <tbody>\n",
              "    <tr>\n",
              "      <th>0</th>\n",
              "      <td>RandomForest</td>\n",
              "      <td>89611</td>\n",
              "      <td>86202</td>\n",
              "      <td>3409</td>\n",
              "      <td>3.80</td>\n",
              "      <td>193713</td>\n",
              "      <td>182533</td>\n",
              "      <td>11181</td>\n",
              "      <td>5.77</td>\n",
              "      <td>0.934392</td>\n",
              "      <td>0.941747</td>\n",
              "      <td>0.007355</td>\n",
              "      <td>0.79</td>\n",
              "    </tr>\n",
              "    <tr>\n",
              "      <th>1</th>\n",
              "      <td>SVR</td>\n",
              "      <td>385311</td>\n",
              "      <td>279863</td>\n",
              "      <td>105448</td>\n",
              "      <td>27.37</td>\n",
              "      <td>780250</td>\n",
              "      <td>668660</td>\n",
              "      <td>111590</td>\n",
              "      <td>14.30</td>\n",
              "      <td>-0.064396</td>\n",
              "      <td>0.218289</td>\n",
              "      <td>0.282685</td>\n",
              "      <td>438.98</td>\n",
              "    </tr>\n",
              "    <tr>\n",
              "      <th>2</th>\n",
              "      <td>MLP</td>\n",
              "      <td>647050</td>\n",
              "      <td>80532</td>\n",
              "      <td>566518</td>\n",
              "      <td>87.55</td>\n",
              "      <td>995303</td>\n",
              "      <td>142118</td>\n",
              "      <td>853185</td>\n",
              "      <td>85.72</td>\n",
              "      <td>-0.731996</td>\n",
              "      <td>0.964687</td>\n",
              "      <td>1.696683</td>\n",
              "      <td>231.79</td>\n",
              "    </tr>\n",
              "  </tbody>\n",
              "</table>\n",
              "</div>"
            ],
            "text/plain": [
              "          Model  MAE_default  MAE_tuned  MAE_diff  MAE_%diff  RMSE_default  \\\n",
              "0  RandomForest        89611      86202      3409       3.80        193713   \n",
              "1           SVR       385311     279863    105448      27.37        780250   \n",
              "2           MLP       647050      80532    566518      87.55        995303   \n",
              "\n",
              "   RMSE_tuned  RMSE_diff  RMSE_%diff  R2_default  R2_tuned   R2_diff  R2_%diff  \n",
              "0      182533      11181        5.77    0.934392  0.941747  0.007355      0.79  \n",
              "1      668660     111590       14.30   -0.064396  0.218289  0.282685    438.98  \n",
              "2      142118     853185       85.72   -0.731996  0.964687  1.696683    231.79  "
            ]
          },
          "metadata": {},
          "output_type": "display_data"
        }
      ],
      "source": [
        "# Step 1: Evaluate default models\n",
        "rf_default = evaluate(\"RandomForest\", y_test, y_pred_rf)\n",
        "svr_default = evaluate(\"SVR\", y_test, y_pred_svr)\n",
        "mlp_default = evaluate(\"MLP\", y_test, y_pred_mlp)\n",
        "\n",
        "# Step 2: Evaluate tuned models\n",
        "rf_tuned = evaluate(\"RandomForest\", y_test, best_rf.predict(X_test))\n",
        "svr_tuned = evaluate(\"SVR\", y_test, best_svr.predict(X_test))\n",
        "mlp_tuned = evaluate(\"MLP\", y_test, best_mlp.predict(X_test))\n",
        "\n",
        "\n",
        "comparison_df = pd.DataFrame({\n",
        "    \"Model\": [\"RandomForest\", \"SVR\", \"MLP\"],\n",
        "    \n",
        "    \"MAE_default\": [round(rf_default[\"MAE\"]), round(svr_default[\"MAE\"]), round(mlp_default[\"MAE\"])],\n",
        "    \"MAE_tuned\": [round(rf_tuned[\"MAE\"]), round(svr_tuned[\"MAE\"]), round(mlp_tuned[\"MAE\"])],\n",
        "    \"MAE_diff\": [round(rf_default[\"MAE\"] - rf_tuned[\"MAE\"]),\n",
        "                 round(svr_default[\"MAE\"] - svr_tuned[\"MAE\"]),\n",
        "                 round(mlp_default[\"MAE\"] - mlp_tuned[\"MAE\"])],\n",
        "    \"MAE_%diff\": [round((rf_default[\"MAE\"] - rf_tuned[\"MAE\"]) / rf_default[\"MAE\"] * 100, 2),\n",
        "                  round((svr_default[\"MAE\"] - svr_tuned[\"MAE\"]) / svr_default[\"MAE\"] * 100, 2),\n",
        "                  round((mlp_default[\"MAE\"] - mlp_tuned[\"MAE\"]) / mlp_default[\"MAE\"] * 100, 2)],\n",
        "\n",
        "    \"RMSE_default\": [round(rf_default[\"RMSE\"]), round(svr_default[\"RMSE\"]), round(mlp_default[\"RMSE\"])],\n",
        "    \"RMSE_tuned\": [round(rf_tuned[\"RMSE\"]), round(svr_tuned[\"RMSE\"]), round(mlp_tuned[\"RMSE\"])],\n",
        "    \"RMSE_diff\": [round(rf_default[\"RMSE\"] - rf_tuned[\"RMSE\"]),\n",
        "                  round(svr_default[\"RMSE\"] - svr_tuned[\"RMSE\"]),\n",
        "                  round(mlp_default[\"RMSE\"] - mlp_tuned[\"RMSE\"])],\n",
        "    \"RMSE_%diff\": [round((rf_default[\"RMSE\"] - rf_tuned[\"RMSE\"]) / rf_default[\"RMSE\"] * 100, 2),\n",
        "                   round((svr_default[\"RMSE\"] - svr_tuned[\"RMSE\"]) / svr_default[\"RMSE\"] * 100, 2),\n",
        "                   round((mlp_default[\"RMSE\"] - mlp_tuned[\"RMSE\"]) / mlp_default[\"RMSE\"] * 100, 2)],\n",
        "\n",
        "    \"R2_default\": [(rf_default[\"R2\"]), (svr_default[\"R2\"]), (mlp_default[\"R2\"])],\n",
        "    \"R2_tuned\": [(rf_tuned[\"R2\"]), (svr_tuned[\"R2\"]), (mlp_tuned[\"R2\"])],\n",
        "    \"R2_diff\": [(rf_tuned[\"R2\"] - rf_default[\"R2\"]),\n",
        "                (svr_tuned[\"R2\"] - svr_default[\"R2\"]),\n",
        "                (mlp_tuned[\"R2\"] - mlp_default[\"R2\"])],\n",
        "    \"R2_%diff\": [round((rf_tuned[\"R2\"] - rf_default[\"R2\"]) / abs(rf_default[\"R2\"]) * 100, 2),\n",
        "                 round((svr_tuned[\"R2\"] - svr_default[\"R2\"]) / abs(svr_default[\"R2\"]) * 100, 2),\n",
        "                 round((mlp_tuned[\"R2\"] - mlp_default[\"R2\"]) / abs(mlp_default[\"R2\"]) * 100, 2)],\n",
        "})\n",
        "\n",
        "\n",
        "display(comparison_df)\n"
      ]
    }
  ],
  "metadata": {
    "accelerator": "GPU",
    "colab": {
      "gpuType": "T4",
      "provenance": []
    },
    "kernelspec": {
      "display_name": ".venv",
      "language": "python",
      "name": "python3"
    },
    "language_info": {
      "codemirror_mode": {
        "name": "ipython",
        "version": 3
      },
      "file_extension": ".py",
      "mimetype": "text/x-python",
      "name": "python",
      "nbconvert_exporter": "python",
      "pygments_lexer": "ipython3",
      "version": "3.12.10"
    }
  },
  "nbformat": 4,
  "nbformat_minor": 0
}
